{
 "cells": [
  {
   "cell_type": "markdown",
   "metadata": {},
   "source": [
    "# Predicting Accident Severity in Seattle"
   ]
  },
  {
   "cell_type": "markdown",
   "metadata": {},
   "source": [
    "## Introduction "
   ]
  },
  {
   "cell_type": "markdown",
   "metadata": {},
   "source": [
    "Seattle is a seaport city on the West Coast of the United States. According to U.S. Census data released in 2019, the Seattle metropolitan area's population stands at 3.98 million, making it the 15th-largest in the United States. In July 2013, Seattle was the fastest-growing major city in the United States and remained in the top five in May 2015 with an annual growth rate of 2.1%. In July 2016, Seattle was again the fastest-growing major U.S. city, with a 3.1% annual growth rate. \n",
    "\n",
    "With this amazing growth of the Seattle, there is still a room for improvement in the Road Accidents where people are losing the life’s or getting injured in traffic collisions every year. Realizing traffic accidents as a preventable problem. Different policies and measures are implemented to reduce this problem. These include enforcement, education, training and engineering improvements.To improve road safety and combat life-threatening crashes we will be working on a data set that will help us Predicting Car Accident Severity across the Roads making it safer for the travellers.\n"
   ]
  },
  {
   "cell_type": "markdown",
   "metadata": {},
   "source": [
    "## Business Problem "
   ]
  },
  {
   "cell_type": "markdown",
   "metadata": {},
   "source": [
    "In the world there are around tens of thousands of people are killed or injured in traffic collisions each year. While Seattle has seen a 30 percent decline in traffic fatalities over the last decade, traffic collisions are still a leading cause of death for Seattle residents age 5-24. Older adults are also disproportionately affected, so this trend could grow as the population ages. With the roads accident’s becoming a major issue for the city around various ages and there are environmental factors and conditions of road.\n",
    "\n",
    "Our main question here is How we might support Seattle to apply data science to reduce traffic fatalities and injuries across the roads in city? And make your next Seattle road trip or journey more accident free.\n"
   ]
  },
  {
   "cell_type": "markdown",
   "metadata": {},
   "source": [
    "## Data Selection"
   ]
  },
  {
   "cell_type": "markdown",
   "metadata": {},
   "source": [
    "Data selection is defined as the process of determining the appropriate data type and source, as well as suitable instruments to collect data. Data selection precedes the actual practice of data collection. \n",
    "\n",
    "This definition distinguishes data selection from selective data reporting (selectively excluding data that is not supportive of a research hypothesis) and interactive/active data selection (using collected data for monitoring activities/events, or conducting secondary data analyses). The process of selecting suitable data for a research project can impact data integrity.\n",
    "\n",
    "The primary objective of data selection is the determination of appropriate data type and sources that allow us predicting the severity of accident. This determination is often discipline-specific and is primarily driven by the nature of the investigation, existing literature, and accessibility to necessary data sources.\n",
    "\n",
    "The data we have consists of 194673 rows × 38 columns which is collected from previous accidents and events occurred in past across roads for the study.The set has various attributes some them describing environmental factors (Whether, Road Condition and Light condition) which can highly influence the road accidents.\n",
    "\n",
    "For example: Consider you are visiting your friends place on the rainy day who live in a country side and while travelling you find the road is wet and making hard for tyres to have a proper grip along the road. So same things are also taken into consideration while selecting the independent variables for the model. The dependent variable we have on the data set is Severity.\n",
    "\n",
    " \n",
    " \n",
    "\n",
    "\n",
    "\n"
   ]
  },
  {
   "cell_type": "code",
   "execution_count": null,
   "metadata": {},
   "outputs": [],
   "source": []
  },
  {
   "cell_type": "code",
   "execution_count": null,
   "metadata": {},
   "outputs": [],
   "source": []
  }
 ],
 "metadata": {
  "kernelspec": {
   "display_name": "Python 3",
   "language": "python",
   "name": "python3"
  },
  "language_info": {
   "codemirror_mode": {
    "name": "ipython",
    "version": 3
   },
   "file_extension": ".py",
   "mimetype": "text/x-python",
   "name": "python",
   "nbconvert_exporter": "python",
   "pygments_lexer": "ipython3",
   "version": "3.8.3"
  }
 },
 "nbformat": 4,
 "nbformat_minor": 4
}
